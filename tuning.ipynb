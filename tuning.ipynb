{
 "cells": [
  {
   "cell_type": "code",
   "execution_count": null,
   "metadata": {},
   "outputs": [],
   "source": [
    "import os \n",
    "accuracy = os.system(\"cat /root/model.txt | grep accuracy\")\n",
    "if accuracy < 90:\n",
    "    \n",
    "while accuracy<90:\n",
    "    x = os.popen(\"cat /root/mymodel.py | grep model.add | wc -l\")\n",
    "    x = x.read()\n",
    "    x = x.rstrip()\n",
    "    x = int(x)\n",
    "    if x==2:\n",
    "        y = 'model.add(Dense(units=32, activation=\\\"relu\\\"))'\n",
    "    elif x==3:\n",
    "        y = 'model.add(Dense(units=16, activation=\\\"relu\\\"))'\n",
    "    elif x==4:\n",
    "        y = 'model.add(Dense(units=8, activation=\\\"relu\\\"))'\n",
    "    else:\n",
    "        print(\"unable to add\")\n",
    "        \n",
    "    os.system(\"sed -i '/softmax/ i {}' /root/mymodel.py\".format(y))\n",
    "    accuracy = os.popen(\"cat /root/accuracy.txt\")\n",
    "    accuracy = float(accuracy)\n",
    "    \n",
    "else:\n",
    "    print(\"ACCURACY ABOVE 90%\")\n"
   ]
  },
  {
   "cell_type": "code",
   "execution_count": null,
   "metadata": {},
   "outputs": [],
   "source": []
  }
 ],
 "metadata": {
  "kernelspec": {
   "display_name": "Python 3",
   "language": "python",
   "name": "python3"
  },
  "language_info": {
   "codemirror_mode": {
    "name": "ipython",
    "version": 3
   },
   "file_extension": ".py",
   "mimetype": "text/x-python",
   "name": "python",
   "nbconvert_exporter": "python",
   "pygments_lexer": "ipython3",
   "version": "3.7.7"
  }
 },
 "nbformat": 4,
 "nbformat_minor": 4
}
