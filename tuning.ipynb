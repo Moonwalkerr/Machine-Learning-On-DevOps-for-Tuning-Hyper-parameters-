{
 "cells": [
  {
   "cell_type": "code",
   "execution_count": null,
   "metadata": {},
   "outputs": [],
   "source": [
    "import os \n",
    "accuracy = os.system(\"cat /root/model.txt | grep accuracy\")\n",
    "ep = os.system(\"cat /root/model.txt | grep ep\")\n",
    "optx = os.system(\"cat /root/model.txt | grep optx\")\n",
    "if accuracy < 90:\n",
    "    \n",
    "while accuracy<90:\n",
    "    x1 = os.popen(\"cat /root/mymodel.py | grep model.add | wc -l\")\n",
    "    x = x1.read()\n",
    "    x = x.rstrip()\n",
    "    x = int(x)\n",
    "    optx_new='adam'\n",
    "    if x==1:\n",
    "        y = 'model.add(Convolution2D(filters=32, \n",
    "                        kernel_size=(3,3), \n",
    "                        activation='relu',\n",
    "                       ))\n",
    "            model.add(MaxPooling2D(pool_size=(2, 2)))\"))'\n",
    "    elif x==2:\n",
    "        y = 'model.add(Convolution2D(filters=32, \n",
    "                        kernel_size=(3,3), \n",
    "                        activation='relu',\n",
    "                       ))\n",
    "            model.add(MaxPooling2D(pool_size=(2, 2)))\"))'\n",
    "    elif x==3:\n",
    "        y = 'model.add(Dense(units=50, activation=\\\"relu\\\"))'\n",
    "    elif x==4:\n",
    "        y = 'model.add(Dense(units=25, activation=\\\"relu\\\"))'\n",
    "    else:\n",
    "        print(\"unable to add\")\n",
    "        \n",
    "    os.system(\"sed -i '/n=0/{}}' /root/mymodel.py\".format(y))\n",
    "    os.system(\"sed -i '/{}/{}+1' /root/mymodel.py\".format(ep))\n",
    "    os.system(\"sed -i '/{}/{}' /root/mymodel.py\".format(optx,optx_n))\n",
    "    os.system(\"http://192.168.43.26:8080/job/Training_the_ML_code/build?token=moonwalker\")\n",
    "    accuracy = os.system(\"cat /root/mlops_ws/modeltuning.txt | grep accuracy\")\n",
    "    accuracy = float(accuracy)\n",
    "    print(accuracy)\n",
    "    \n",
    "else:\n",
    "    print(\"ACCURACY ABOVE 90%\")\n"
   ]
  },
  {
   "cell_type": "code",
   "execution_count": null,
   "metadata": {},
   "outputs": [],
   "source": []
  }
 ],
 "metadata": {
  "kernelspec": {
   "display_name": "Python 3",
   "language": "python",
   "name": "python3"
  },
  "language_info": {
   "codemirror_mode": {
    "name": "ipython",
    "version": 3
   },
   "file_extension": ".py",
   "mimetype": "text/x-python",
   "name": "python",
   "nbconvert_exporter": "python",
   "pygments_lexer": "ipython3",
   "version": "3.7.7"
  }
 },
 "nbformat": 4,
 "nbformat_minor": 4
}
